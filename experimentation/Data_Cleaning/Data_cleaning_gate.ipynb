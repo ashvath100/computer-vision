{
  "nbformat": 4,
  "nbformat_minor": 0,
  "metadata": {
    "colab": {
      "name": "Data_cleaning_gate.ipynb",
      "provenance": [],
      "toc_visible": true
    },
    "kernelspec": {
      "name": "python3",
      "display_name": "Python 3"
    }
  },
  "cells": [
    {
      "cell_type": "markdown",
      "metadata": {
        "id": "l05acG2Y23gf",
        "colab_type": "text"
      },
      "source": [
        "# Data Cleaning"
      ]
    },
    {
      "cell_type": "code",
      "metadata": {
        "id": "bfnmg99N3KCI",
        "colab_type": "code",
        "colab": {}
      },
      "source": [
        "import pandas as pd\n",
        "import numpy as np"
      ],
      "execution_count": 0,
      "outputs": []
    },
    {
      "cell_type": "code",
      "metadata": {
        "id": "YcscXMpc2g8d",
        "colab_type": "code",
        "outputId": "82b78549-2e25-4d21-f7e0-ce2c3998d3a9",
        "colab": {
          "base_uri": "https://localhost:8080/",
          "height": 250
        }
      },
      "source": [
        "df = pd.read_csv('/content/2018_p1.csv')\n",
        "df.tail(3)"
      ],
      "execution_count": 44,
      "outputs": [
        {
          "output_type": "execute_result",
          "data": {
            "text/html": [
              "<div>\n",
              "<style scoped>\n",
              "    .dataframe tbody tr th:only-of-type {\n",
              "        vertical-align: middle;\n",
              "    }\n",
              "\n",
              "    .dataframe tbody tr th {\n",
              "        vertical-align: top;\n",
              "    }\n",
              "\n",
              "    .dataframe thead th {\n",
              "        text-align: right;\n",
              "    }\n",
              "</style>\n",
              "<table border=\"1\" class=\"dataframe\">\n",
              "  <thead>\n",
              "    <tr style=\"text-align: right;\">\n",
              "      <th></th>\n",
              "      <th>ID</th>\n",
              "      <th>DataRow ID</th>\n",
              "      <th>Labeled Data</th>\n",
              "      <th>Label</th>\n",
              "      <th>Created By</th>\n",
              "      <th>Project Name</th>\n",
              "      <th>Created At</th>\n",
              "      <th>Updated At</th>\n",
              "      <th>Seconds to Label</th>\n",
              "      <th>External ID</th>\n",
              "      <th>Agreement</th>\n",
              "      <th>Benchmark Agreement</th>\n",
              "      <th>Benchmark ID</th>\n",
              "      <th>Benchmark Reference ID</th>\n",
              "      <th>Dataset Name</th>\n",
              "      <th>Reviews</th>\n",
              "      <th>View Label</th>\n",
              "    </tr>\n",
              "  </thead>\n",
              "  <tbody>\n",
              "    <tr>\n",
              "      <th>1020</th>\n",
              "      <td>ck3syh0k6dcpu0877goqwh7j1</td>\n",
              "      <td>ck3q479cv2kry0gmv5g2vgwg8</td>\n",
              "      <td>https://storage.labelbox.com/ck3oia7k4o22t0804...</td>\n",
              "      <td>{\"objects\":[{\"featureId\":\"ck3sygv1b03kr0ya80fi...</td>\n",
              "      <td>okeaditya315@gmail.com</td>\n",
              "      <td>VAUV 2018</td>\n",
              "      <td>1575564583000</td>\n",
              "      <td>1575564583000</td>\n",
              "      <td>10.263</td>\n",
              "      <td>2018_VID_1_3_frame1094.jpg</td>\n",
              "      <td>NaN</td>\n",
              "      <td>NaN</td>\n",
              "      <td>NaN</td>\n",
              "      <td>NaN</td>\n",
              "      <td>VID_2018_p1</td>\n",
              "      <td>[]</td>\n",
              "      <td>https://editor.labelbox.com?project=ck3oibg3ih...</td>\n",
              "    </tr>\n",
              "    <tr>\n",
              "      <th>1021</th>\n",
              "      <td>ck3syh0okiydf0804zruop0ma</td>\n",
              "      <td>ck3q479e62lyy0gmv2eiz7uhq</td>\n",
              "      <td>https://storage.labelbox.com/ck3oia7k4o22t0804...</td>\n",
              "      <td>{\"objects\":[{\"featureId\":\"ck3syguy6039u0yb4u26...</td>\n",
              "      <td>tony2000jacob@gmail.com</td>\n",
              "      <td>VAUV 2018</td>\n",
              "      <td>1575564583000</td>\n",
              "      <td>1575564583000</td>\n",
              "      <td>15.874</td>\n",
              "      <td>2018_VID_1_3_frame1481.jpg</td>\n",
              "      <td>NaN</td>\n",
              "      <td>NaN</td>\n",
              "      <td>NaN</td>\n",
              "      <td>NaN</td>\n",
              "      <td>VID_2018_p1</td>\n",
              "      <td>[]</td>\n",
              "      <td>https://editor.labelbox.com?project=ck3oibg3ih...</td>\n",
              "    </tr>\n",
              "    <tr>\n",
              "      <th>1022</th>\n",
              "      <td>ck3syhh0dqyh30872fac1tsax</td>\n",
              "      <td>ck3q479ag2ii60gmvc73h9cna</td>\n",
              "      <td>https://storage.labelbox.com/ck3oia7k4o22t0804...</td>\n",
              "      <td>{\"objects\":[{\"featureId\":\"ck3syh97v02mi0yeoizi...</td>\n",
              "      <td>okeaditya315@gmail.com</td>\n",
              "      <td>VAUV 2018</td>\n",
              "      <td>1575564604000</td>\n",
              "      <td>1575564604000</td>\n",
              "      <td>11.202</td>\n",
              "      <td>2018_VID_1_3_frame357.jpg</td>\n",
              "      <td>NaN</td>\n",
              "      <td>NaN</td>\n",
              "      <td>NaN</td>\n",
              "      <td>NaN</td>\n",
              "      <td>VID_2018_p1</td>\n",
              "      <td>[]</td>\n",
              "      <td>https://editor.labelbox.com?project=ck3oibg3ih...</td>\n",
              "    </tr>\n",
              "  </tbody>\n",
              "</table>\n",
              "</div>"
            ],
            "text/plain": [
              "                             ID  ...                                         View Label\n",
              "1020  ck3syh0k6dcpu0877goqwh7j1  ...  https://editor.labelbox.com?project=ck3oibg3ih...\n",
              "1021  ck3syh0okiydf0804zruop0ma  ...  https://editor.labelbox.com?project=ck3oibg3ih...\n",
              "1022  ck3syhh0dqyh30872fac1tsax  ...  https://editor.labelbox.com?project=ck3oibg3ih...\n",
              "\n",
              "[3 rows x 17 columns]"
            ]
          },
          "metadata": {
            "tags": []
          },
          "execution_count": 44
        }
      ]
    },
    {
      "cell_type": "code",
      "metadata": {
        "id": "wSKIZMC53Do5",
        "colab_type": "code",
        "colab": {}
      },
      "source": [
        "############ WORKING CODE AS WRITTEN ORIGNALLY BEFORE CLEANING #################\n",
        "labels = df[\"Label\"]\n",
        "label_df = pd.DataFrame()\n",
        "label_list = []\n",
        "\n",
        "for row in range(1023):\n",
        "    label = eval(labels[row])\n",
        "    if 'objects' in label:\n",
        "        object_ = label['objects']\n",
        "        gate_count = 0\n",
        "        gate_lines = []\n",
        "        for obj in object_:\n",
        "            obj = eval(str(obj))\n",
        "            # print(obj)\n",
        "            if (obj[\"title\"] == 'Gate'):\n",
        "                gate_count += 1\n",
        "                gate_lines.append(obj[\"line\"])\n",
        "        \n",
        "        if (gate_count == 0):\n",
        "            label_list.append(\"No Gate\")\n",
        "        else:\n",
        "            label_list.append(gate_lines)\n",
        "    else:\n",
        "        label_list.append(\"No Object\")"
      ],
      "execution_count": 0,
      "outputs": []
    },
    {
      "cell_type": "code",
      "metadata": {
        "id": "WmN74UUh3VtU",
        "colab_type": "code",
        "outputId": "adaf859b-53d2-4602-9d5b-56575d3693b9",
        "colab": {
          "base_uri": "https://localhost:8080/",
          "height": 36
        }
      },
      "source": [
        "df.tail()\n",
        "print(len(df))"
      ],
      "execution_count": 0,
      "outputs": [
        {
          "output_type": "stream",
          "text": [
            "1023\n"
          ],
          "name": "stdout"
        }
      ]
    },
    {
      "cell_type": "code",
      "metadata": {
        "id": "W8qUEPbx3iDX",
        "colab_type": "code",
        "outputId": "8ff566ab-4f89-4d1f-c0a0-28fa68767596",
        "colab": {
          "base_uri": "https://localhost:8080/",
          "height": 36
        }
      },
      "source": [
        "############### MY LOGIC ###################\n",
        "x_1t = []\n",
        "y_1t = []\n",
        "x_2t = []\n",
        "y_2t = []\n",
        "x_3t = []\n",
        "y_3t = []\n",
        "x_4t = []\n",
        "y_4t = []\n",
        "\n",
        "labels = df[\"Label\"]\n",
        "lb = eval(labels[4])\n",
        "# print(lb)\n",
        "object_ = lb['objects']\n",
        "# print(object_)\n",
        "\n",
        "g_l = []\n",
        "for obj1 in object_:\n",
        "    if(obj1['title'] == 'Gate'):\n",
        "       g_l.append(obj1[\"line\"])\n",
        "print(g_l)\n",
        "\n",
        "\n",
        "ele_list = g_l[0]\n",
        "# print(len(ele_list))\n",
        "\n",
        "\n",
        "# if(len(ele_list) == 2):\n",
        "#     x_1t.append(ele_list[0]['x'])\n",
        "#     y_1t.append(ele_list[0]['y'])\n",
        "#     x_2t.append(ele_list[1]['x'])\n",
        "#     y_2t.append(ele_list[1]['y'])\n",
        "\n",
        "#     x_3t.append(0)\n",
        "#     y_4t.append(0)\n",
        "    \n",
        "#     x_3t.append(0)\n",
        "#     y_4t.append(0)\n",
        "    \n",
        "\n",
        "# if(len(ele_list) == 4):\n",
        "#     x_1t.append(ele_list[0]['x'])\n",
        "#     y_1t.append(ele_list[0]['y'])\n",
        "    \n",
        "#     x_2t.append(ele_list[1]['x'])\n",
        "#     y_2t.append(ele_list[1]['y'])\n",
        "    \n",
        "#     x_3t.append(ele_list[2]['x'])\n",
        "#     y_3t.append(ele_list[2]['y'])\n",
        "\n",
        "#     x_4t.append(ele_list[3]['x'])\n",
        "#     y_4t.append(ele_list[3]['y'])\n",
        "\n",
        "# print(x_1t)\n",
        "# print(y_1t)\n",
        "# print(x_2t)\n",
        "# print(y_2t)\n",
        "# print(x_3t)\n",
        "# print(y_3t)\n",
        "# print(x_4t)\n",
        "# print(y_4t)"
      ],
      "execution_count": 0,
      "outputs": [
        {
          "output_type": "stream",
          "text": [
            "[[{'x': 153.296, 'y': 341.899}, {'x': 127.821, 'y': 103.24}, {'x': 341.006, 'y': 91.173}, {'x': 358.436, 'y': 311.061}]]\n"
          ],
          "name": "stdout"
        }
      ]
    },
    {
      "cell_type": "code",
      "metadata": {
        "id": "8WpSD8Ti4JUE",
        "colab_type": "code",
        "colab": {}
      },
      "source": [
        "df = pd.read_csv('/content/2018_p1.csv')"
      ],
      "execution_count": 0,
      "outputs": []
    },
    {
      "cell_type": "code",
      "metadata": {
        "id": "ynJd8zKo4w98",
        "colab_type": "code",
        "colab": {}
      },
      "source": [
        "############### MY LOGIC ###################\n",
        "x_1t = []\n",
        "y_1t = []\n",
        "x_2t = []\n",
        "y_2t = []\n",
        "x_3t = []\n",
        "y_3t = []\n",
        "x_4t = []\n",
        "y_4t = []"
      ],
      "execution_count": 0,
      "outputs": []
    },
    {
      "cell_type": "markdown",
      "metadata": {
        "id": "v3EEU0NpOS_M",
        "colab_type": "text"
      },
      "source": [
        "{\"objects\":[{\"featureId\":\"ck3sy6e4r036v0yb4dpue1gee\",\"schemaId\":\"ck3oigxbuhzgk0a942imguk17\",\"title\":\"Gate\",\"value\":\"gate\",\"color\":\"#8000FF\",\"line\":[{\"x\":37.714,\"y\":556.571},{\"x\":6.857,\"y\":424}]},{\"featureId\":\"ck3sy6h7e03h70ya84m6rfv7g\",\"schemaId\":\"ck3oigxbuhzgk0a942imguk17\",\"title\":\"Gate\",\"value\":\"gate\",\"color\":\"#8000FF\",\"line\":[{\"x\":286.857,\"y\":642.286},{\"x\":266.286,\"y\":178.286}]}],\"classifications\":[]}\n",
        "\n",
        "\n",
        "1-2 1-2 Case"
      ]
    },
    {
      "cell_type": "code",
      "metadata": {
        "id": "_aUkzp4uDteE",
        "colab_type": "code",
        "colab": {}
      },
      "source": [
        "labels = eval('{\"objects\":[{\"featureId\":\"ck3sy6e4r036v0yb4dpue1gee\",\"schemaId\":\"ck3oigxbuhzgk0a942imguk17\",\"title\":\"Gate\",\"value\":\"gate\",\"color\":\"#8000FF\",\"line\":[{\"x\":37.714,\"y\":556.571},{\"x\":6.857,\"y\":424}]},{\"featureId\":\"ck3sy6h7e03h70ya84m6rfv7g\",\"schemaId\":\"ck3oigxbuhzgk0a942imguk17\",\"title\":\"Gate\",\"value\":\"gate\",\"color\":\"#8000FF\",\"line\":[{\"x\":286.857,\"y\":642.286},{\"x\":266.286,\"y\":178.286}]}],\"classifications\":[]}')"
      ],
      "execution_count": 0,
      "outputs": []
    },
    {
      "cell_type": "code",
      "metadata": {
        "id": "go-M4VvpEIap",
        "colab_type": "code",
        "colab": {
          "base_uri": "https://localhost:8080/",
          "height": 56
        },
        "outputId": "de567518-658e-4927-8291-42d6834f6a79"
      },
      "source": [
        "object_ = labels['objects']\n",
        "print(object_)"
      ],
      "execution_count": 39,
      "outputs": [
        {
          "output_type": "stream",
          "text": [
            "[{'featureId': 'ck3sy6e4r036v0yb4dpue1gee', 'schemaId': 'ck3oigxbuhzgk0a942imguk17', 'title': 'Gate', 'value': 'gate', 'color': '#8000FF', 'line': [{'x': 37.714, 'y': 556.571}, {'x': 6.857, 'y': 424}]}, {'featureId': 'ck3sy6h7e03h70ya84m6rfv7g', 'schemaId': 'ck3oigxbuhzgk0a942imguk17', 'title': 'Gate', 'value': 'gate', 'color': '#8000FF', 'line': [{'x': 286.857, 'y': 642.286}, {'x': 266.286, 'y': 178.286}]}]\n"
          ],
          "name": "stdout"
        }
      ]
    },
    {
      "cell_type": "code",
      "metadata": {
        "id": "-laqEJ0AEepA",
        "colab_type": "code",
        "colab": {
          "base_uri": "https://localhost:8080/",
          "height": 167
        },
        "outputId": "facea03b-f6c1-495c-ea7b-d563ae82eb6a"
      },
      "source": [
        "gate_lines = []\n",
        "for obj in object_:\n",
        "    obj = eval(str(obj))\n",
        "    print(obj)\n",
        "    gate_lines.append(obj['line'])\n",
        "print(gate_lines)\n",
        "print(len(gate_lines))\n",
        "print(gate_lines[0])\n",
        "print(len(gate_lines[0]))\n",
        "\n",
        "print(gate_lines[1])"
      ],
      "execution_count": 40,
      "outputs": [
        {
          "output_type": "stream",
          "text": [
            "{'featureId': 'ck3sy6e4r036v0yb4dpue1gee', 'schemaId': 'ck3oigxbuhzgk0a942imguk17', 'title': 'Gate', 'value': 'gate', 'color': '#8000FF', 'line': [{'x': 37.714, 'y': 556.571}, {'x': 6.857, 'y': 424}]}\n",
            "{'featureId': 'ck3sy6h7e03h70ya84m6rfv7g', 'schemaId': 'ck3oigxbuhzgk0a942imguk17', 'title': 'Gate', 'value': 'gate', 'color': '#8000FF', 'line': [{'x': 286.857, 'y': 642.286}, {'x': 266.286, 'y': 178.286}]}\n",
            "[[{'x': 37.714, 'y': 556.571}, {'x': 6.857, 'y': 424}], [{'x': 286.857, 'y': 642.286}, {'x': 266.286, 'y': 178.286}]]\n",
            "2\n",
            "[{'x': 37.714, 'y': 556.571}, {'x': 6.857, 'y': 424}]\n",
            "2\n",
            "[{'x': 286.857, 'y': 642.286}, {'x': 266.286, 'y': 178.286}]\n"
          ],
          "name": "stdout"
        }
      ]
    },
    {
      "cell_type": "markdown",
      "metadata": {
        "id": "R9d7zcVVOTos",
        "colab_type": "text"
      },
      "source": [
        "{\"objects\":[{\"featureId\":\"ck3riqsfz0zc30y8riq209o6c\",\"schemaId\":\"ck3oigxbuhzgk0a942imguk17\",\"title\":\"Gate\",\"value\":\"gate\",\"color\":\"#8000FF\",\"line\":[{\"x\":290.056,\"y\":636.872},{\"x\":247.151,\"y\":190.391}]}],\"classifications\":[]}\n",
        "\n",
        "1-2 Case"
      ]
    },
    {
      "cell_type": "code",
      "metadata": {
        "id": "eWNw3T2vGHSX",
        "colab_type": "code",
        "colab": {
          "base_uri": "https://localhost:8080/",
          "height": 56
        },
        "outputId": "08079c8a-a084-48e1-b0cb-3324621c28b2"
      },
      "source": [
        "labels = eval('{\"objects\":[{\"featureId\":\"ck3riqsfz0zc30y8riq209o6c\",\"schemaId\":\"ck3oigxbuhzgk0a942imguk17\",\"title\":\"Gate\",\"value\":\"gate\",\"color\":\"#8000FF\",\"line\":[{\"x\":290.056,\"y\":636.872},{\"x\":247.151,\"y\":190.391}]}],\"classifications\":[]}')\n",
        "object_ = labels['objects']\n",
        "print(object_)"
      ],
      "execution_count": 36,
      "outputs": [
        {
          "output_type": "stream",
          "text": [
            "[{'featureId': 'ck3riqsfz0zc30y8riq209o6c', 'schemaId': 'ck3oigxbuhzgk0a942imguk17', 'title': 'Gate', 'value': 'gate', 'color': '#8000FF', 'line': [{'x': 290.056, 'y': 636.872}, {'x': 247.151, 'y': 190.391}]}]\n"
          ],
          "name": "stdout"
        }
      ]
    },
    {
      "cell_type": "code",
      "metadata": {
        "id": "_qXxp01MOh7u",
        "colab_type": "code",
        "colab": {
          "base_uri": "https://localhost:8080/",
          "height": 130
        },
        "outputId": "bff1534a-a5d7-43cf-84a4-ac8d1984c14c"
      },
      "source": [
        "gate_lines = []\n",
        "for obj in object_:\n",
        "    obj = eval(str(obj))\n",
        "    print(obj)\n",
        "    gate_lines.append(obj['line'])\n",
        "print(gate_lines)\n",
        "print(len(gate_lines))\n",
        "print(gate_lines[0])\n",
        "print(len(gate_lines[0]))"
      ],
      "execution_count": 37,
      "outputs": [
        {
          "output_type": "stream",
          "text": [
            "{'featureId': 'ck3riqsfz0zc30y8riq209o6c', 'schemaId': 'ck3oigxbuhzgk0a942imguk17', 'title': 'Gate', 'value': 'gate', 'color': '#8000FF', 'line': [{'x': 290.056, 'y': 636.872}, {'x': 247.151, 'y': 190.391}]}\n",
            "[[{'x': 290.056, 'y': 636.872}, {'x': 247.151, 'y': 190.391}]]\n",
            "1\n",
            "[{'x': 290.056, 'y': 636.872}, {'x': 247.151, 'y': 190.391}]\n",
            "2\n"
          ],
          "name": "stdout"
        }
      ]
    },
    {
      "cell_type": "markdown",
      "metadata": {
        "id": "1Fv3thXnO3EG",
        "colab_type": "text"
      },
      "source": [
        "{\"objects\":[{\"featureId\":\"ck3rirc8a12tc0yd4otob5l9y\",\"schemaId\":\"ck3oigxbuhzgk0a942imguk17\",\"title\":\"Gate\",\"value\":\"gate\",\"color\":\"#8000FF\",\"line\":[{\"x\":333.714,\"y\":469.714},{\"x\":331.429,\"y\":130.286},{\"x\":650.286,\"y\":149.714},{\"x\":633.143,\"y\":454.857}]}]}\n",
        "\n",
        "\n",
        "All four cordinates Case"
      ]
    },
    {
      "cell_type": "code",
      "metadata": {
        "id": "yAJQ5siqOw4u",
        "colab_type": "code",
        "colab": {
          "base_uri": "https://localhost:8080/",
          "height": 56
        },
        "outputId": "2cbec301-7b4a-4da2-b579-c51d49de5fe4"
      },
      "source": [
        "labels = eval('{\"objects\":[{\"featureId\":\"ck3rirc8a12tc0yd4otob5l9y\",\"schemaId\":\"ck3oigxbuhzgk0a942imguk17\",\"title\":\"Gate\",\"value\":\"gate\",\"color\":\"#8000FF\",\"line\":[{\"x\":333.714,\"y\":469.714},{\"x\":331.429,\"y\":130.286},{\"x\":650.286,\"y\":149.714},{\"x\":633.143,\"y\":454.857}]}]}')\n",
        "object_ = labels['objects']\n",
        "print(object_)"
      ],
      "execution_count": 30,
      "outputs": [
        {
          "output_type": "stream",
          "text": [
            "[{'featureId': 'ck3rirc8a12tc0yd4otob5l9y', 'schemaId': 'ck3oigxbuhzgk0a942imguk17', 'title': 'Gate', 'value': 'gate', 'color': '#8000FF', 'line': [{'x': 333.714, 'y': 469.714}, {'x': 331.429, 'y': 130.286}, {'x': 650.286, 'y': 149.714}, {'x': 633.143, 'y': 454.857}]}]\n"
          ],
          "name": "stdout"
        }
      ]
    },
    {
      "cell_type": "code",
      "metadata": {
        "id": "ZnM1lAzJPCo0",
        "colab_type": "code",
        "colab": {
          "base_uri": "https://localhost:8080/",
          "height": 130
        },
        "outputId": "76e7f428-1b4f-4188-bd2a-5cb5c5ffbc30"
      },
      "source": [
        "gate_lines = []\n",
        "for obj in object_:\n",
        "    obj = eval(str(obj))\n",
        "    print(obj)\n",
        "    gate_lines.append(obj['line'])\n",
        "print(gate_lines)\n",
        "print(len(gate_lines))\n",
        "print(gate_lines[0])\n",
        "print(len(gate_lines[0]))"
      ],
      "execution_count": 31,
      "outputs": [
        {
          "output_type": "stream",
          "text": [
            "{'featureId': 'ck3rirc8a12tc0yd4otob5l9y', 'schemaId': 'ck3oigxbuhzgk0a942imguk17', 'title': 'Gate', 'value': 'gate', 'color': '#8000FF', 'line': [{'x': 333.714, 'y': 469.714}, {'x': 331.429, 'y': 130.286}, {'x': 650.286, 'y': 149.714}, {'x': 633.143, 'y': 454.857}]}\n",
            "[[{'x': 333.714, 'y': 469.714}, {'x': 331.429, 'y': 130.286}, {'x': 650.286, 'y': 149.714}, {'x': 633.143, 'y': 454.857}]]\n",
            "1\n",
            "[{'x': 333.714, 'y': 469.714}, {'x': 331.429, 'y': 130.286}, {'x': 650.286, 'y': 149.714}, {'x': 633.143, 'y': 454.857}]\n",
            "4\n"
          ],
          "name": "stdout"
        }
      ]
    },
    {
      "cell_type": "code",
      "metadata": {
        "id": "Fl7HJsfC37qc",
        "colab_type": "code",
        "colab": {}
      },
      "source": [
        "# Trying to Incorporate that \n",
        "labels = df[\"Label\"]\n",
        "label_df = pd.DataFrame()\n",
        "label_list = []\n",
        "\n",
        "for row in range(len(df)):\n",
        "    label = eval(labels[row])\n",
        "    if 'objects' in label:\n",
        "        object_ = label['objects']\n",
        "        gate_count = 0\n",
        "        gate_lines = []\n",
        "        for obj in object_:\n",
        "            obj = eval(str(obj))\n",
        "            # print(obj)\n",
        "            if (obj[\"title\"] == 'Gate'):\n",
        "                gate_count += 1\n",
        "                gate_lines.append(obj[\"line\"])\n",
        "        \n",
        "        if (gate_count == 0):\n",
        "            label_list.append(\"No Gate\")\n",
        "            x_1t.append(0)\n",
        "            y_1t.append(0)\n",
        "            x_2t.append(0)\n",
        "            y_2t.append(0)\n",
        "            x_3t.append(0)\n",
        "            y_3t.append(0)\n",
        "            x_4t.append(0)\n",
        "            y_4t.append(0)\n",
        "\n",
        "        # print(gate_lines)\n",
        "        else:\n",
        "            if(len(gate_lines) > 0):\n",
        "                ele_list = gate_lines[0]\n",
        "            # print(ele_list)\n",
        "\n",
        "                if(len(ele_list) == 2):\n",
        "                    x_1t.append(ele_list[0]['x'])\n",
        "                    y_1t.append(ele_list[0]['y'])\n",
        "                    x_2t.append(ele_list[1]['x'])\n",
        "                    y_2t.append(ele_list[1]['y'])\n",
        "\n",
        "                    x_3t.append(0)\n",
        "                    y_3t.append(0)\n",
        "\n",
        "                    x_4t.append(0)\n",
        "                    y_4t.append(0)\n",
        "\n",
        "                elif(len(ele_list) == 4):\n",
        "                    x_1t.append(ele_list[0]['x'])\n",
        "                    y_1t.append(ele_list[0]['y'])\n",
        "                    \n",
        "                    x_2t.append(ele_list[1]['x'])\n",
        "                    y_2t.append(ele_list[1]['y'])\n",
        "                    \n",
        "                    x_3t.append(ele_list[2]['x'])\n",
        "                    y_3t.append(ele_list[2]['y'])\n",
        "\n",
        "                    x_4t.append(ele_list[3]['x'])\n",
        "                    y_4t.append(ele_list[3]['y'])\n",
        "                    \n",
        "                else:\n",
        "                    x_1t.append(-1)\n",
        "                    y_1t.append(-1)\n",
        "                    x_2t.append(-1)\n",
        "                    y_2t.append(-1)\n",
        "                    x_3t.append(-1)\n",
        "                    y_3t.append(-1)\n",
        "                    x_4t.append(-1)\n",
        "                    y_4t.append(-1)\n",
        "               \n",
        "                    # print(ele_list)\n",
        "        # else:\n",
        "        #     label_list.append(gate_lines)\n",
        "\n",
        "    else:\n",
        "        label_list.append(\"No Object\")\n",
        "        x_1t.append(-2)\n",
        "        y_1t.append(-2)\n",
        "        x_2t.append(-2)\n",
        "        y_2t.append(-2)\n",
        "        x_3t.append(-2)\n",
        "        y_3t.append(-2)\n",
        "        x_4t.append(-2)\n",
        "        y_4t.append(-2)\n",
        "\n",
        "\n",
        "# print(x_1t)\n",
        "# print(y_1t)\n",
        "# print(x_2t)\n",
        "# print(y_2t)\n",
        "# print(x_3t)\n",
        "# print(y_3t)\n",
        "# print(x_4t)\n",
        "# print(y_4t)\n",
        "\n",
        "print(len(x_1t))\n",
        "print(len(y_1t))\n",
        "print(len(x_2t))\n",
        "print(len(y_2t))\n",
        "print(len(x_3t))\n",
        "print(len(y_3t))\n",
        "print(len(x_4t))\n",
        "print(len(y_4t))\n",
        "\n",
        "\n",
        "df['x1'] = np.array(x_1t)\n",
        "df['y1'] = np.array(y_1t)\n",
        "\n",
        "df['x2'] = np.array(x_2t)\n",
        "df['y2'] = np.array(y_2t)\n",
        "\n",
        "df['x3'] = np.array(x_3t)\n",
        "df['y3'] = np.array(y_3t)\n",
        "\n",
        "df['x4'] = np.array(x_4t)\n",
        "df['y4'] = np.array(y_4t)"
      ],
      "execution_count": 0,
      "outputs": []
    },
    {
      "cell_type": "code",
      "metadata": {
        "id": "-m-h5JGlSNWt",
        "colab_type": "code",
        "colab": {
          "base_uri": "https://localhost:8080/",
          "height": 166
        },
        "outputId": "7904773c-c64e-454b-dc3e-e601e5000cef"
      },
      "source": [
        "# Changes made again on 10/01 after bug in 1-2 1-2 case\n",
        "# Trying to Incorporate that \n",
        "labels = df[\"Label\"]\n",
        "label_df = pd.DataFrame()\n",
        "label_list = []\n",
        "x_1t = []\n",
        "y_1t = []\n",
        "x_2t = []\n",
        "y_2t = []\n",
        "x_3t = []\n",
        "y_3t = []\n",
        "x_4t = []\n",
        "y_4t = []\n",
        "\n",
        "for row in range(len(df)):\n",
        "    label = eval(labels[row])\n",
        "    if 'objects' in label:\n",
        "        object_ = label['objects']\n",
        "        gate_count = 0\n",
        "        gate_lines = []\n",
        "        for obj in object_:\n",
        "            obj = eval(str(obj))\n",
        "            # print(obj)\n",
        "            if (obj[\"title\"] == 'Gate'):\n",
        "                gate_count += 1\n",
        "                gate_lines.append(obj[\"line\"])\n",
        "        \n",
        "        if (gate_count == 0):\n",
        "            label_list.append(\"No Gate\")\n",
        "            x_1t.append(0)\n",
        "            y_1t.append(0)\n",
        "            x_2t.append(0)\n",
        "            y_2t.append(0)\n",
        "            x_3t.append(0)\n",
        "            y_3t.append(0)\n",
        "            x_4t.append(0)\n",
        "            y_4t.append(0)\n",
        "\n",
        "        # print(gate_lines)\n",
        "        else:\n",
        "            if(len(gate_lines) == 1):\n",
        "                ele_list = gate_lines[0]\n",
        "            # print(ele_list)\n",
        "\n",
        "                if(len(ele_list) == 2):\n",
        "                    x_1t.append(ele_list[0]['x'])\n",
        "                    y_1t.append(ele_list[0]['y'])\n",
        "                    x_2t.append(ele_list[1]['x'])\n",
        "                    y_2t.append(ele_list[1]['y'])\n",
        "\n",
        "                    x_3t.append(0)\n",
        "                    y_3t.append(0)\n",
        "\n",
        "                    x_4t.append(0)\n",
        "                    y_4t.append(0)\n",
        "\n",
        "                elif(len(ele_list) == 4):\n",
        "                    x_1t.append(ele_list[0]['x'])\n",
        "                    y_1t.append(ele_list[0]['y'])\n",
        "                    \n",
        "                    x_2t.append(ele_list[1]['x'])\n",
        "                    y_2t.append(ele_list[1]['y'])\n",
        "                    \n",
        "                    x_3t.append(ele_list[2]['x'])\n",
        "                    y_3t.append(ele_list[2]['y'])\n",
        "\n",
        "                    x_4t.append(ele_list[3]['x'])\n",
        "                    y_4t.append(ele_list[3]['y'])\n",
        "                else:\n",
        "                    x_1t.append(-1)\n",
        "                    y_1t.append(-1)\n",
        "                    x_2t.append(-1)\n",
        "                    y_2t.append(-1)\n",
        "                    x_3t.append(-1)\n",
        "                    y_3t.append(-1)\n",
        "                    x_4t.append(-1)\n",
        "                    y_4t.append(-1)\n",
        "            \n",
        "            elif(len(gate_lines) == 2):\n",
        "                ele_list1 = gate_lines[0]\n",
        "                ele_list2 = gate_lines[1]\n",
        "                x_1t.append(ele_list1[0]['x'])\n",
        "                y_1t.append(ele_list1[0]['y'])\n",
        "                x_2t.append(ele_list1[1]['x'])\n",
        "                y_2t.append(ele_list1[1]['y'])\n",
        "\n",
        "                x_3t.append(ele_list2[0]['x'])\n",
        "                y_3t.append(ele_list2[0]['y'])\n",
        "                x_4t.append(ele_list2[1]['x'])\n",
        "                y_4t.append(ele_list2[1]['y'])\n",
        "                \n",
        "                    # print(ele_list)\n",
        "        # else:\n",
        "        #     label_list.append(gate_lines)\n",
        "\n",
        "    else:\n",
        "        label_list.append(\"No Object\")\n",
        "        x_1t.append(-2)\n",
        "        y_1t.append(-2)\n",
        "        x_2t.append(-2)\n",
        "        y_2t.append(-2)\n",
        "        x_3t.append(-2)\n",
        "        y_3t.append(-2)\n",
        "        x_4t.append(-2)\n",
        "        y_4t.append(-2)\n",
        "\n",
        "\n",
        "# print(x_1t)\n",
        "# print(y_1t)\n",
        "# print(x_2t)\n",
        "# print(y_2t)\n",
        "# print(x_3t)\n",
        "# print(y_3t)\n",
        "# print(x_4t)\n",
        "# print(y_4t)\n",
        "\n",
        "print(len(x_1t))\n",
        "print(len(y_1t))\n",
        "print(len(x_2t))\n",
        "print(len(y_2t))\n",
        "print(len(x_3t))\n",
        "print(len(y_3t))\n",
        "print(len(x_4t))\n",
        "print(len(y_4t))\n",
        "\n",
        "\n",
        "df['x1'] = np.array(x_1t)\n",
        "df['y1'] = np.array(y_1t)\n",
        "\n",
        "df['x2'] = np.array(x_2t)\n",
        "df['y2'] = np.array(y_2t)\n",
        "\n",
        "df['x3'] = np.array(x_3t)\n",
        "df['y3'] = np.array(y_3t)\n",
        "\n",
        "df['x4'] = np.array(x_4t)\n",
        "df['y4'] = np.array(y_4t)\n"
      ],
      "execution_count": 45,
      "outputs": [
        {
          "output_type": "stream",
          "text": [
            "1023\n",
            "1023\n",
            "1023\n",
            "1023\n",
            "1023\n",
            "1023\n",
            "1023\n",
            "1023\n"
          ],
          "name": "stdout"
        }
      ]
    },
    {
      "cell_type": "code",
      "metadata": {
        "id": "Mxf35fK691hp",
        "colab_type": "code",
        "colab": {}
      },
      "source": [
        "######## Test Cases\n",
        "# [[{'x': 333.714, 'y': 469.714}, \n",
        "# {'x': 331.429, 'y': 130.286}, {'x': 650.286, 'y': 149.714}, {'x': 633.143, 'y': 454.857}]]\n",
        "\n",
        "\n",
        "# [[{'x': 733.779, 'y': 716.998}, {'x': 803.659, 'y': 39.89},\n",
        "#   {'x': 1220.526, 'y': 184.468}, {'x': 1109.683, 'y': 704.95}]]\n",
        "\n",
        "# [[{'x': 153.296, 'y': 341.899}, {'x': 127.821, 'y': 103.24}, {\n",
        "#     'x': 341.006, 'y': 91.173}, {'x': 358.436, 'y': 311.061}]]\n",
        "\n",
        "# Passing all these cases\n"
      ],
      "execution_count": 0,
      "outputs": []
    },
    {
      "cell_type": "code",
      "metadata": {
        "id": "8jTiVzXC4WFR",
        "colab_type": "code",
        "outputId": "c5c59dbb-2b6c-4dc5-8dc0-d815813fbd56",
        "colab": {
          "base_uri": "https://localhost:8080/",
          "height": 348
        }
      },
      "source": [
        "df.head()"
      ],
      "execution_count": 46,
      "outputs": [
        {
          "output_type": "execute_result",
          "data": {
            "text/html": [
              "<div>\n",
              "<style scoped>\n",
              "    .dataframe tbody tr th:only-of-type {\n",
              "        vertical-align: middle;\n",
              "    }\n",
              "\n",
              "    .dataframe tbody tr th {\n",
              "        vertical-align: top;\n",
              "    }\n",
              "\n",
              "    .dataframe thead th {\n",
              "        text-align: right;\n",
              "    }\n",
              "</style>\n",
              "<table border=\"1\" class=\"dataframe\">\n",
              "  <thead>\n",
              "    <tr style=\"text-align: right;\">\n",
              "      <th></th>\n",
              "      <th>ID</th>\n",
              "      <th>DataRow ID</th>\n",
              "      <th>Labeled Data</th>\n",
              "      <th>Label</th>\n",
              "      <th>Created By</th>\n",
              "      <th>Project Name</th>\n",
              "      <th>Created At</th>\n",
              "      <th>Updated At</th>\n",
              "      <th>Seconds to Label</th>\n",
              "      <th>External ID</th>\n",
              "      <th>Agreement</th>\n",
              "      <th>Benchmark Agreement</th>\n",
              "      <th>Benchmark ID</th>\n",
              "      <th>Benchmark Reference ID</th>\n",
              "      <th>Dataset Name</th>\n",
              "      <th>Reviews</th>\n",
              "      <th>View Label</th>\n",
              "      <th>x1</th>\n",
              "      <th>y1</th>\n",
              "      <th>x2</th>\n",
              "      <th>y2</th>\n",
              "      <th>x3</th>\n",
              "      <th>y3</th>\n",
              "      <th>x4</th>\n",
              "      <th>y4</th>\n",
              "    </tr>\n",
              "  </thead>\n",
              "  <tbody>\n",
              "    <tr>\n",
              "      <th>0</th>\n",
              "      <td>ck3rirb15emsq0a479nj01evq</td>\n",
              "      <td>ck3q479c42k1a0gmv6gm9dnhn</td>\n",
              "      <td>https://storage.labelbox.com/ck3oia7k4o22t0804...</td>\n",
              "      <td>{\"objects\":[{\"featureId\":\"ck3riqsfz0zc30y8riq2...</td>\n",
              "      <td>harshablast@gmail.com</td>\n",
              "      <td>VAUV 2018</td>\n",
              "      <td>1575477723000</td>\n",
              "      <td>1575477723000</td>\n",
              "      <td>6.305</td>\n",
              "      <td>2018_VID_1_3_frame854.jpg</td>\n",
              "      <td>NaN</td>\n",
              "      <td>NaN</td>\n",
              "      <td>NaN</td>\n",
              "      <td>NaN</td>\n",
              "      <td>VID_2018_p1</td>\n",
              "      <td>[]</td>\n",
              "      <td>https://editor.labelbox.com?project=ck3oibg3ih...</td>\n",
              "      <td>290.056</td>\n",
              "      <td>636.872</td>\n",
              "      <td>247.151</td>\n",
              "      <td>190.391</td>\n",
              "      <td>0.000</td>\n",
              "      <td>0.000</td>\n",
              "      <td>0.000</td>\n",
              "      <td>0.000</td>\n",
              "    </tr>\n",
              "    <tr>\n",
              "      <th>1</th>\n",
              "      <td>ck3risionulfl0804x8vo2ow9</td>\n",
              "      <td>ck3q479ai2ijy0gmvett5dz12</td>\n",
              "      <td>https://storage.labelbox.com/ck3oia7k4o22t0804...</td>\n",
              "      <td>{\"objects\":[{\"featureId\":\"ck3rirc8a12tc0yd4oto...</td>\n",
              "      <td>okeaditya315@gmail.com</td>\n",
              "      <td>VAUV 2018</td>\n",
              "      <td>1575477779000</td>\n",
              "      <td>1575477779000</td>\n",
              "      <td>38.845</td>\n",
              "      <td>2018_VID_1_3_frame373.jpg</td>\n",
              "      <td>NaN</td>\n",
              "      <td>NaN</td>\n",
              "      <td>NaN</td>\n",
              "      <td>NaN</td>\n",
              "      <td>VID_2018_p1</td>\n",
              "      <td>[]</td>\n",
              "      <td>https://editor.labelbox.com?project=ck3oibg3ih...</td>\n",
              "      <td>333.714</td>\n",
              "      <td>469.714</td>\n",
              "      <td>331.429</td>\n",
              "      <td>130.286</td>\n",
              "      <td>650.286</td>\n",
              "      <td>149.714</td>\n",
              "      <td>633.143</td>\n",
              "      <td>454.857</td>\n",
              "    </tr>\n",
              "    <tr>\n",
              "      <th>2</th>\n",
              "      <td>ck3risiw1ulg10804g719lwtq</td>\n",
              "      <td>ck3q479982hri0gmvfdzphqsq</td>\n",
              "      <td>https://storage.labelbox.com/ck3oia7k4o22t0804...</td>\n",
              "      <td>{\"objects\":[{\"featureId\":\"ck3rirrrl000g0yah9o5...</td>\n",
              "      <td>harshablast@gmail.com</td>\n",
              "      <td>VAUV 2018</td>\n",
              "      <td>1575477780000</td>\n",
              "      <td>1575477780000</td>\n",
              "      <td>33.092</td>\n",
              "      <td>2018_VID_1_3_frame116.jpg</td>\n",
              "      <td>NaN</td>\n",
              "      <td>NaN</td>\n",
              "      <td>NaN</td>\n",
              "      <td>NaN</td>\n",
              "      <td>VID_2018_p1</td>\n",
              "      <td>[]</td>\n",
              "      <td>https://editor.labelbox.com?project=ck3oibg3ih...</td>\n",
              "      <td>733.779</td>\n",
              "      <td>716.998</td>\n",
              "      <td>803.659</td>\n",
              "      <td>39.890</td>\n",
              "      <td>1220.526</td>\n",
              "      <td>184.468</td>\n",
              "      <td>1109.683</td>\n",
              "      <td>704.950</td>\n",
              "    </tr>\n",
              "    <tr>\n",
              "      <th>3</th>\n",
              "      <td>ck3ritbw7oqfn087737jgon7l</td>\n",
              "      <td>ck3q479en2mey0gmv7cz5biqi</td>\n",
              "      <td>https://storage.labelbox.com/ck3oia7k4o22t0804...</td>\n",
              "      <td>{\"objects\":[{\"featureId\":\"ck3risx9h12ti0yd4hky...</td>\n",
              "      <td>okeaditya315@gmail.com</td>\n",
              "      <td>VAUV 2018</td>\n",
              "      <td>1575477817000</td>\n",
              "      <td>1575477817000</td>\n",
              "      <td>12.153</td>\n",
              "      <td>2018_VID_1_3_frame1625.jpg</td>\n",
              "      <td>NaN</td>\n",
              "      <td>NaN</td>\n",
              "      <td>NaN</td>\n",
              "      <td>NaN</td>\n",
              "      <td>VID_2018_p1</td>\n",
              "      <td>[]</td>\n",
              "      <td>https://editor.labelbox.com?project=ck3oibg3ih...</td>\n",
              "      <td>0.000</td>\n",
              "      <td>0.000</td>\n",
              "      <td>0.000</td>\n",
              "      <td>0.000</td>\n",
              "      <td>0.000</td>\n",
              "      <td>0.000</td>\n",
              "      <td>0.000</td>\n",
              "      <td>0.000</td>\n",
              "    </tr>\n",
              "    <tr>\n",
              "      <th>4</th>\n",
              "      <td>ck3ritc9rkd6n07828afl92a9</td>\n",
              "      <td>ck3q479e52lx60gmvfaa03e0f</td>\n",
              "      <td>https://storage.labelbox.com/ck3oia7k4o22t0804...</td>\n",
              "      <td>{\"objects\":[{\"featureId\":\"ck3risvel0zd40y8rrep...</td>\n",
              "      <td>harshablast@gmail.com</td>\n",
              "      <td>VAUV 2018</td>\n",
              "      <td>1575477818000</td>\n",
              "      <td>1575477818000</td>\n",
              "      <td>24.152</td>\n",
              "      <td>2018_VID_1_3_frame1465.jpg</td>\n",
              "      <td>NaN</td>\n",
              "      <td>NaN</td>\n",
              "      <td>NaN</td>\n",
              "      <td>NaN</td>\n",
              "      <td>VID_2018_p1</td>\n",
              "      <td>[]</td>\n",
              "      <td>https://editor.labelbox.com?project=ck3oibg3ih...</td>\n",
              "      <td>153.296</td>\n",
              "      <td>341.899</td>\n",
              "      <td>127.821</td>\n",
              "      <td>103.240</td>\n",
              "      <td>341.006</td>\n",
              "      <td>91.173</td>\n",
              "      <td>358.436</td>\n",
              "      <td>311.061</td>\n",
              "    </tr>\n",
              "  </tbody>\n",
              "</table>\n",
              "</div>"
            ],
            "text/plain": [
              "                          ID                 DataRow ID  ...        x4       y4\n",
              "0  ck3rirb15emsq0a479nj01evq  ck3q479c42k1a0gmv6gm9dnhn  ...     0.000    0.000\n",
              "1  ck3risionulfl0804x8vo2ow9  ck3q479ai2ijy0gmvett5dz12  ...   633.143  454.857\n",
              "2  ck3risiw1ulg10804g719lwtq  ck3q479982hri0gmvfdzphqsq  ...  1109.683  704.950\n",
              "3  ck3ritbw7oqfn087737jgon7l  ck3q479en2mey0gmv7cz5biqi  ...     0.000    0.000\n",
              "4  ck3ritc9rkd6n07828afl92a9  ck3q479e52lx60gmvfaa03e0f  ...   358.436  311.061\n",
              "\n",
              "[5 rows x 25 columns]"
            ]
          },
          "metadata": {
            "tags": []
          },
          "execution_count": 46
        }
      ]
    },
    {
      "cell_type": "code",
      "metadata": {
        "id": "skC1I11cYFh1",
        "colab_type": "code",
        "colab": {}
      },
      "source": [
        "df.to_csv('Data_cleaned_fixed.csv', index=True)"
      ],
      "execution_count": 0,
      "outputs": []
    },
    {
      "cell_type": "code",
      "metadata": {
        "id": "cQwI42XzYVoa",
        "colab_type": "code",
        "colab": {}
      },
      "source": [
        ""
      ],
      "execution_count": 0,
      "outputs": []
    }
  ]
}