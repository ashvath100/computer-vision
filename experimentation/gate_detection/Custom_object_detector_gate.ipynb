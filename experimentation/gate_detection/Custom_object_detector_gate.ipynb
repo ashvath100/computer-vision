{
  "nbformat": 4,
  "nbformat_minor": 0,
  "metadata": {
    "colab": {
      "name": "Custom_object_detector_gate.ipynb",
      "provenance": [],
      "collapsed_sections": [],
      "toc_visible": true
    },
    "kernelspec": {
      "name": "python3",
      "display_name": "Python 3"
    },
    "accelerator": "GPU"
  },
  "cells": [
    {
      "cell_type": "markdown",
      "metadata": {
        "id": "lSC4o2h3eJmO",
        "colab_type": "text"
      },
      "source": [
        "# Custom Object detector for the Gate Task"
      ]
    },
    {
      "cell_type": "markdown",
      "metadata": {
        "id": "FjTnSxKVebs8",
        "colab_type": "text"
      },
      "source": [
        "## Imports"
      ]
    },
    {
      "cell_type": "code",
      "metadata": {
        "id": "H0CXY-i0axZT",
        "colab_type": "code",
        "colab": {}
      },
      "source": [
        "import os\n",
        "import numpy as np\n",
        "import cv2\n",
        "import pandas as pd"
      ],
      "execution_count": 0,
      "outputs": []
    },
    {
      "cell_type": "code",
      "metadata": {
        "id": "2PjiNtyClobG",
        "colab_type": "code",
        "outputId": "9946e34a-7e39-40f8-f4b7-e37032d547d1",
        "colab": {
          "base_uri": "https://localhost:8080/",
          "height": 84
        }
      },
      "source": [
        "from keras import Input, layers\n",
        "from keras.models import Sequential, Model\n",
        "from keras import layers\n",
        "from keras import Input\n",
        "from keras import optimizers\n",
        "from keras.preprocessing.image import ImageDataGenerator "
      ],
      "execution_count": 0,
      "outputs": [
        {
          "output_type": "stream",
          "text": [
            "Using TensorFlow backend.\n"
          ],
          "name": "stderr"
        },
        {
          "output_type": "display_data",
          "data": {
            "text/html": [
              "<p style=\"color: red;\">\n",
              "The default version of TensorFlow in Colab will soon switch to TensorFlow 2.x.<br>\n",
              "We recommend you <a href=\"https://www.tensorflow.org/guide/migrate\" target=\"_blank\">upgrade</a> now \n",
              "or ensure your notebook will continue to use TensorFlow 1.x via the <code>%tensorflow_version 1.x</code> magic:\n",
              "<a href=\"https://colab.research.google.com/notebooks/tensorflow_version.ipynb\" target=\"_blank\">more info</a>.</p>\n"
            ],
            "text/plain": [
              "<IPython.core.display.HTML object>"
            ]
          },
          "metadata": {
            "tags": []
          }
        }
      ]
    },
    {
      "cell_type": "markdown",
      "metadata": {
        "id": "JNTz8-Wokjl-",
        "colab_type": "text"
      },
      "source": [
        "## Input the Images"
      ]
    },
    {
      "cell_type": "code",
      "metadata": {
        "id": "QeGu_PT9JGYa",
        "colab_type": "code",
        "colab": {}
      },
      "source": [
        "image_dir = '/train_dir'\n",
        "size_dim = (228,228)"
      ],
      "execution_count": 0,
      "outputs": []
    },
    {
      "cell_type": "code",
      "metadata": {
        "id": "KbItHNKPkl_2",
        "colab_type": "code",
        "colab": {}
      },
      "source": [
        "def get_images(image_dir, size_dim=(228,228)):\n",
        "    image_folder = image_dir\n",
        "    count = 0\n",
        "    data = []\n",
        "    for file_name in os.list_dir(image_folder): \n",
        "        img = cv2.imread(file_name)\n",
        "        img = cv2.resize(img, size_dim, interpolation = cv2.INTER_NEAREST)\n",
        "        if img is None:\n",
        "            print(\"Could not find the image. Some problem with image number: %d\" %(count))\n",
        "            print(\"-----------Skkipping Image %d -----------\" %(count))\n",
        "        else:\n",
        "            data.append(img)\n",
        "            count += 1\n",
        "    \n",
        "    print(\"Total Number of images read %d\" %(count))\n",
        "    return(np.asrray(data), count)"
      ],
      "execution_count": 0,
      "outputs": []
    },
    {
      "cell_type": "markdown",
      "metadata": {
        "id": "5i1N7s8mhDU9",
        "colab_type": "text"
      },
      "source": [
        "## Formatting the Input "
      ]
    },
    {
      "cell_type": "code",
      "metadata": {
        "id": "ICqfx85fhFzn",
        "colab_type": "code",
        "colab": {}
      },
      "source": [
        "train_datagen = ImageDataGenerator(rotation_range=30, width_shift_range=0.2, height_shift_range=0.2,\n",
        "             zoom_range=0.2, horizontal_flip=True, vertical_flip=False,\n",
        "             rescale=1./255, data_format='channels_last', dtype='float32')"
      ],
      "execution_count": 0,
      "outputs": []
    },
    {
      "cell_type": "code",
      "metadata": {
        "id": "Q8bmU9dviLp5",
        "colab_type": "code",
        "colab": {}
      },
      "source": [
        "test_datagen = ImageDataGenerator(rescale=1./255, dtype='float32')"
      ],
      "execution_count": 0,
      "outputs": []
    },
    {
      "cell_type": "code",
      "metadata": {
        "id": "a6ZIcJQMi11N",
        "colab_type": "code",
        "colab": {}
      },
      "source": [
        "# train_datagen.flow_from_directory('/train_dir', target_size=(228, 228), color_mode='rgb', classes=None, batch_size=32, shuffle=True, class_mode='categorical', seed=31)"
      ],
      "execution_count": 0,
      "outputs": []
    },
    {
      "cell_type": "code",
      "metadata": {
        "id": "WK4mKuXajsJG",
        "colab_type": "code",
        "colab": {}
      },
      "source": [
        "# test_datagen.flow_from_directory(directory='test_dir', target_size=(228,228), color_mode='rgb', classes=None)"
      ],
      "execution_count": 0,
      "outputs": []
    },
    {
      "cell_type": "code",
      "metadata": {
        "id": "S7QrZWrykRAk",
        "colab_type": "code",
        "colab": {}
      },
      "source": [
        "train_datagen.flow(x, y, batch_size=32, shuffle=True)"
      ],
      "execution_count": 0,
      "outputs": []
    },
    {
      "cell_type": "markdown",
      "metadata": {
        "id": "7-n502Y-easV",
        "colab_type": "text"
      },
      "source": [
        "## Object Detection Model"
      ]
    },
    {
      "cell_type": "code",
      "metadata": {
        "id": "URUwfgUDegRW",
        "colab_type": "code",
        "outputId": "32a9d0ac-80a6-42cb-b19c-900d91ba2e0a",
        "colab": {
          "base_uri": "https://localhost:8080/",
          "height": 93
        }
      },
      "source": [
        "input_shape = Input(shape = (228, 228, 3))\n",
        "\n",
        "x = layers.SeparableConv2D(128, kernel_size=3)(input_shape)\n",
        "x = layers.advanced_activations.LeakyReLU(alpha=0.3)(x)\n",
        "x = layers.MaxPooling2D(pool_size = (2, 2)) (x)\n",
        "x = layers.BatchNormalization() (x)\n",
        "x = layers.Dropout(0.2) (x)\n",
        "\n",
        "x = layers.SeparableConv2D(64, kernel_size=3)(x)\n",
        "x = layers.advanced_activations.LeakyReLU(alpha=0.3)(x)\n",
        "x = layers.MaxPooling2D(pool_size = (2, 2)) (x)\n",
        "x = layers.BatchNormalization() (x)\n",
        "x = layers.Dropout(0.3) (x)\n",
        "\n",
        "x = layers.SeparableConv2D(32, kernel_size=3)(x)\n",
        "x = layers.advanced_activations.LeakyReLU(alpha=0.3)(x)\n",
        "x = layers.MaxPooling2D(pool_size = (2, 2)) (x)\n",
        "x = layers.BatchNormalization() (x)\n",
        "x = layers.Dropout(0.4) (x)\n",
        "\n",
        "x = layers.Flatten()(x)\n",
        "x = layers.Dense(256) (x)\n",
        "x = layers.advanced_activations.LeakyReLU(alpha=0.3)(x)\n",
        "cordinates = layers.Dense(4, use_bias='False') (x)\n",
        "\n"
      ],
      "execution_count": 0,
      "outputs": [
        {
          "output_type": "stream",
          "text": [
            "WARNING:tensorflow:From /usr/local/lib/python3.6/dist-packages/keras/backend/tensorflow_backend.py:3733: calling dropout (from tensorflow.python.ops.nn_ops) with keep_prob is deprecated and will be removed in a future version.\n",
            "Instructions for updating:\n",
            "Please use `rate` instead of `keep_prob`. Rate should be set to `rate = 1 - keep_prob`.\n"
          ],
          "name": "stdout"
        }
      ]
    },
    {
      "cell_type": "code",
      "metadata": {
        "id": "abSwB4Pw0zDr",
        "colab_type": "code",
        "colab": {}
      },
      "source": [
        "regressor = Model(inputs=input_shape, outputs=cordinates)"
      ],
      "execution_count": 0,
      "outputs": []
    },
    {
      "cell_type": "code",
      "metadata": {
        "id": "tBk6QQib1fRG",
        "colab_type": "code",
        "colab": {}
      },
      "source": [
        "regressor.summary()"
      ],
      "execution_count": 0,
      "outputs": []
    }
  ]
}