{
  "nbformat": 4,
  "nbformat_minor": 0,
  "metadata": {
    "colab": {
      "name": "Custom_object_detector_gate.ipynb",
      "provenance": [],
      "toc_visible": true
    },
    "kernelspec": {
      "name": "python3",
      "display_name": "Python 3"
    },
    "accelerator": "GPU"
  },
  "cells": [
    {
      "cell_type": "markdown",
      "metadata": {
        "id": "lSC4o2h3eJmO",
        "colab_type": "text"
      },
      "source": [
        "# Custom Object detector for the Gate Task"
      ]
    },
    {
      "cell_type": "markdown",
      "metadata": {
        "id": "FjTnSxKVebs8",
        "colab_type": "text"
      },
      "source": [
        "## Imports"
      ]
    },
    {
      "cell_type": "code",
      "metadata": {
        "id": "H0CXY-i0axZT",
        "colab_type": "code",
        "colab": {}
      },
      "source": [
        "import os\n",
        "import numpy as np\n",
        "import cv2\n",
        "import pandas as pd"
      ],
      "execution_count": 0,
      "outputs": []
    },
    {
      "cell_type": "code",
      "metadata": {
        "id": "2PjiNtyClobG",
        "colab_type": "code",
        "colab": {}
      },
      "source": [
        "from keras import Input, layers\n",
        "from keras.models import Sequential, Model\n",
        "from keras import layers\n",
        "from keras import Input\n",
        "from keras import optimizers\n",
        "from keras.preprocessing.image import ImageDataGenerator "
      ],
      "execution_count": 0,
      "outputs": []
    },
    {
      "cell_type": "markdown",
      "metadata": {
        "id": "JNTz8-Wokjl-",
        "colab_type": "text"
      },
      "source": [
        "## Input the Images"
      ]
    },
    {
      "cell_type": "code",
      "metadata": {
        "id": "OyoWcWTEn3lP",
        "colab_type": "code",
        "colab": {}
      },
      "source": [
        "image_dir = '/train_dir'\n",
        "size_dim = (228,228)"
      ],
      "execution_count": 0,
      "outputs": []
    },
    {
      "cell_type": "code",
      "metadata": {
        "id": "KbItHNKPkl_2",
        "colab_type": "code",
        "colab": {}
      },
      "source": [
        "def get_images(image_dir, size_dim=(228,228)):\n",
        "    image_folder = image_dir\n",
        "    count = 0\n",
        "    data = []\n",
        "    for file_name in os.list_dir(image_folder): \n",
        "        img = cv2.imread(file_name)\n",
        "        img = cv2.resize(img, size_dim, interpolation = cv2.INTER_NEAREST)\n",
        "        if img is None:\n",
        "            print(\"Could not find the image. Some problem with image number: %d\" %(count))\n",
        "            print(\"-----------Skkipping Image %d -----------\" %(count))\n",
        "        else:\n",
        "            data.append(img)\n",
        "            count += 1\n",
        "    \n",
        "    print(\"Total Number of images read %d\" %(count))\n",
        "    return(np.asrray(data), count)"
      ],
      "execution_count": 0,
      "outputs": []
    },
    {
      "cell_type": "code",
      "metadata": {
        "id": "0FMEivbQojgb",
        "colab_type": "code",
        "colab": {}
      },
      "source": [
        ""
      ],
      "execution_count": 0,
      "outputs": []
    },
    {
      "cell_type": "markdown",
      "metadata": {
        "id": "5i1N7s8mhDU9",
        "colab_type": "text"
      },
      "source": [
        "## Formatting the Input "
      ]
    },
    {
      "cell_type": "code",
      "metadata": {
        "id": "ICqfx85fhFzn",
        "colab_type": "code",
        "colab": {}
      },
      "source": [
        "train_datagen = ImageDataGenerator(rotation_range=30, width_shift_range=0.2, height_shift_range=0.2,\n",
        "             zoom_range=0.2, horizontal_flip=True, vertical_flip=False,\n",
        "             rescale=1./255, data_format='channels_last', dtype='float32')"
      ],
      "execution_count": 0,
      "outputs": []
    },
    {
      "cell_type": "code",
      "metadata": {
        "id": "Q8bmU9dviLp5",
        "colab_type": "code",
        "colab": {}
      },
      "source": [
        "test_datagen = ImageDataGenerator(rescale=1./255, dtype='float32')"
      ],
      "execution_count": 0,
      "outputs": []
    },
    {
      "cell_type": "code",
      "metadata": {
        "id": "a6ZIcJQMi11N",
        "colab_type": "code",
        "colab": {}
      },
      "source": [
        "# train_datagen.flow_from_directory('/train_dir', target_size=(228, 228), color_mode='rgb', classes=None, batch_size=32, shuffle=True, class_mode='categorical', seed=31)"
      ],
      "execution_count": 0,
      "outputs": []
    },
    {
      "cell_type": "code",
      "metadata": {
        "id": "WK4mKuXajsJG",
        "colab_type": "code",
        "colab": {}
      },
      "source": [
        "# test_datagen.flow_from_directory(directory='test_dir', target_size=(228,228), color_mode='rgb', classes=None)"
      ],
      "execution_count": 0,
      "outputs": []
    },
    {
      "cell_type": "code",
      "metadata": {
        "id": "S7QrZWrykRAk",
        "colab_type": "code",
        "colab": {}
      },
      "source": [
        "train_datagen.flow(x, y, batch_size=32, shuffle=True)"
      ],
      "execution_count": 0,
      "outputs": []
    },
    {
      "cell_type": "markdown",
      "metadata": {
        "id": "KmJtmRl8owI0",
        "colab_type": "text"
      },
      "source": [
        "## Checking the DataFrame"
      ]
    },
    {
      "cell_type": "markdown",
      "metadata": {
        "id": "fnDMamwprej4",
        "colab_type": "text"
      },
      "source": [
        "- External ID contains the images names \n",
        "- Label contains the label\n",
        "\n",
        "- Sort by the external ID\n",
        "- Put the corresponding label."
      ]
    },
    {
      "cell_type": "code",
      "metadata": {
        "id": "9pWwtrXfkXtr",
        "colab_type": "code",
        "colab": {}
      },
      "source": [
        "df = pd.read_csv('/content/2018_p1.csv')"
      ],
      "execution_count": 0,
      "outputs": []
    },
    {
      "cell_type": "code",
      "metadata": {
        "id": "mExMNVCMt1lW",
        "colab_type": "code",
        "colab": {
          "base_uri": "https://localhost:8080/",
          "height": 348
        },
        "outputId": "197d5927-0571-4e5b-ca28-7ec00eda3970"
      },
      "source": [
        "df.head()"
      ],
      "execution_count": 31,
      "outputs": [
        {
          "output_type": "execute_result",
          "data": {
            "text/html": [
              "<div>\n",
              "<style scoped>\n",
              "    .dataframe tbody tr th:only-of-type {\n",
              "        vertical-align: middle;\n",
              "    }\n",
              "\n",
              "    .dataframe tbody tr th {\n",
              "        vertical-align: top;\n",
              "    }\n",
              "\n",
              "    .dataframe thead th {\n",
              "        text-align: right;\n",
              "    }\n",
              "</style>\n",
              "<table border=\"1\" class=\"dataframe\">\n",
              "  <thead>\n",
              "    <tr style=\"text-align: right;\">\n",
              "      <th></th>\n",
              "      <th>ID</th>\n",
              "      <th>DataRow ID</th>\n",
              "      <th>Labeled Data</th>\n",
              "      <th>Label</th>\n",
              "      <th>Created By</th>\n",
              "      <th>Project Name</th>\n",
              "      <th>Created At</th>\n",
              "      <th>Updated At</th>\n",
              "      <th>Seconds to Label</th>\n",
              "      <th>External ID</th>\n",
              "      <th>Agreement</th>\n",
              "      <th>Benchmark Agreement</th>\n",
              "      <th>Benchmark ID</th>\n",
              "      <th>Benchmark Reference ID</th>\n",
              "      <th>Dataset Name</th>\n",
              "      <th>Reviews</th>\n",
              "      <th>View Label</th>\n",
              "    </tr>\n",
              "  </thead>\n",
              "  <tbody>\n",
              "    <tr>\n",
              "      <th>0</th>\n",
              "      <td>ck3rirb15emsq0a479nj01evq</td>\n",
              "      <td>ck3q479c42k1a0gmv6gm9dnhn</td>\n",
              "      <td>https://storage.labelbox.com/ck3oia7k4o22t0804...</td>\n",
              "      <td>{\"objects\":[{\"featureId\":\"ck3riqsfz0zc30y8riq2...</td>\n",
              "      <td>harshablast@gmail.com</td>\n",
              "      <td>VAUV 2018</td>\n",
              "      <td>1575477723000</td>\n",
              "      <td>1575477723000</td>\n",
              "      <td>6.305</td>\n",
              "      <td>2018_VID_1_3_frame854.jpg</td>\n",
              "      <td>NaN</td>\n",
              "      <td>NaN</td>\n",
              "      <td>NaN</td>\n",
              "      <td>NaN</td>\n",
              "      <td>VID_2018_p1</td>\n",
              "      <td>[]</td>\n",
              "      <td>https://editor.labelbox.com?project=ck3oibg3ih...</td>\n",
              "    </tr>\n",
              "    <tr>\n",
              "      <th>1</th>\n",
              "      <td>ck3risionulfl0804x8vo2ow9</td>\n",
              "      <td>ck3q479ai2ijy0gmvett5dz12</td>\n",
              "      <td>https://storage.labelbox.com/ck3oia7k4o22t0804...</td>\n",
              "      <td>{\"objects\":[{\"featureId\":\"ck3rirc8a12tc0yd4oto...</td>\n",
              "      <td>okeaditya315@gmail.com</td>\n",
              "      <td>VAUV 2018</td>\n",
              "      <td>1575477779000</td>\n",
              "      <td>1575477779000</td>\n",
              "      <td>38.845</td>\n",
              "      <td>2018_VID_1_3_frame373.jpg</td>\n",
              "      <td>NaN</td>\n",
              "      <td>NaN</td>\n",
              "      <td>NaN</td>\n",
              "      <td>NaN</td>\n",
              "      <td>VID_2018_p1</td>\n",
              "      <td>[]</td>\n",
              "      <td>https://editor.labelbox.com?project=ck3oibg3ih...</td>\n",
              "    </tr>\n",
              "    <tr>\n",
              "      <th>2</th>\n",
              "      <td>ck3risiw1ulg10804g719lwtq</td>\n",
              "      <td>ck3q479982hri0gmvfdzphqsq</td>\n",
              "      <td>https://storage.labelbox.com/ck3oia7k4o22t0804...</td>\n",
              "      <td>{\"objects\":[{\"featureId\":\"ck3rirrrl000g0yah9o5...</td>\n",
              "      <td>harshablast@gmail.com</td>\n",
              "      <td>VAUV 2018</td>\n",
              "      <td>1575477780000</td>\n",
              "      <td>1575477780000</td>\n",
              "      <td>33.092</td>\n",
              "      <td>2018_VID_1_3_frame116.jpg</td>\n",
              "      <td>NaN</td>\n",
              "      <td>NaN</td>\n",
              "      <td>NaN</td>\n",
              "      <td>NaN</td>\n",
              "      <td>VID_2018_p1</td>\n",
              "      <td>[]</td>\n",
              "      <td>https://editor.labelbox.com?project=ck3oibg3ih...</td>\n",
              "    </tr>\n",
              "    <tr>\n",
              "      <th>3</th>\n",
              "      <td>ck3ritbw7oqfn087737jgon7l</td>\n",
              "      <td>ck3q479en2mey0gmv7cz5biqi</td>\n",
              "      <td>https://storage.labelbox.com/ck3oia7k4o22t0804...</td>\n",
              "      <td>{\"objects\":[{\"featureId\":\"ck3risx9h12ti0yd4hky...</td>\n",
              "      <td>okeaditya315@gmail.com</td>\n",
              "      <td>VAUV 2018</td>\n",
              "      <td>1575477817000</td>\n",
              "      <td>1575477817000</td>\n",
              "      <td>12.153</td>\n",
              "      <td>2018_VID_1_3_frame1625.jpg</td>\n",
              "      <td>NaN</td>\n",
              "      <td>NaN</td>\n",
              "      <td>NaN</td>\n",
              "      <td>NaN</td>\n",
              "      <td>VID_2018_p1</td>\n",
              "      <td>[]</td>\n",
              "      <td>https://editor.labelbox.com?project=ck3oibg3ih...</td>\n",
              "    </tr>\n",
              "    <tr>\n",
              "      <th>4</th>\n",
              "      <td>ck3ritc9rkd6n07828afl92a9</td>\n",
              "      <td>ck3q479e52lx60gmvfaa03e0f</td>\n",
              "      <td>https://storage.labelbox.com/ck3oia7k4o22t0804...</td>\n",
              "      <td>{\"objects\":[{\"featureId\":\"ck3risvel0zd40y8rrep...</td>\n",
              "      <td>harshablast@gmail.com</td>\n",
              "      <td>VAUV 2018</td>\n",
              "      <td>1575477818000</td>\n",
              "      <td>1575477818000</td>\n",
              "      <td>24.152</td>\n",
              "      <td>2018_VID_1_3_frame1465.jpg</td>\n",
              "      <td>NaN</td>\n",
              "      <td>NaN</td>\n",
              "      <td>NaN</td>\n",
              "      <td>NaN</td>\n",
              "      <td>VID_2018_p1</td>\n",
              "      <td>[]</td>\n",
              "      <td>https://editor.labelbox.com?project=ck3oibg3ih...</td>\n",
              "    </tr>\n",
              "  </tbody>\n",
              "</table>\n",
              "</div>"
            ],
            "text/plain": [
              "                          ID  ...                                         View Label\n",
              "0  ck3rirb15emsq0a479nj01evq  ...  https://editor.labelbox.com?project=ck3oibg3ih...\n",
              "1  ck3risionulfl0804x8vo2ow9  ...  https://editor.labelbox.com?project=ck3oibg3ih...\n",
              "2  ck3risiw1ulg10804g719lwtq  ...  https://editor.labelbox.com?project=ck3oibg3ih...\n",
              "3  ck3ritbw7oqfn087737jgon7l  ...  https://editor.labelbox.com?project=ck3oibg3ih...\n",
              "4  ck3ritc9rkd6n07828afl92a9  ...  https://editor.labelbox.com?project=ck3oibg3ih...\n",
              "\n",
              "[5 rows x 17 columns]"
            ]
          },
          "metadata": {
            "tags": []
          },
          "execution_count": 31
        }
      ]
    },
    {
      "cell_type": "code",
      "metadata": {
        "id": "ySOXDLNFovQd",
        "colab_type": "code",
        "colab": {}
      },
      "source": [
        "# labeled_data = df['Labeled Data']\n",
        "# label = df['Label']"
      ],
      "execution_count": 0,
      "outputs": []
    },
    {
      "cell_type": "code",
      "metadata": {
        "id": "f1WRpXyApIk7",
        "colab_type": "code",
        "colab": {}
      },
      "source": [
        "df2 = df.sort_values(by='External ID', ascending=True,inplace=False)"
      ],
      "execution_count": 0,
      "outputs": []
    },
    {
      "cell_type": "code",
      "metadata": {
        "id": "0RVfuug_sSOA",
        "colab_type": "code",
        "colab": {
          "base_uri": "https://localhost:8080/",
          "height": 240
        },
        "outputId": "39ba519b-3fa8-4aa1-b386-3898511f63b3"
      },
      "source": [
        "df2['External ID']"
      ],
      "execution_count": 30,
      "outputs": [
        {
          "output_type": "execute_result",
          "data": {
            "text/plain": [
              "293        2018_VID_1_3_frame0.jpg\n",
              "989        2018_VID_1_3_frame1.jpg\n",
              "1004     2018_VID_1_3_frame100.jpg\n",
              "381     2018_VID_1_3_frame1000.jpg\n",
              "444     2018_VID_1_3_frame1003.jpg\n",
              "                   ...            \n",
              "884      2018_VID_1_3_frame992.jpg\n",
              "248      2018_VID_1_3_frame994.jpg\n",
              "946      2018_VID_1_3_frame995.jpg\n",
              "327      2018_VID_1_3_frame997.jpg\n",
              "1001     2018_VID_1_3_frame998.jpg\n",
              "Name: External ID, Length: 1023, dtype: object"
            ]
          },
          "metadata": {
            "tags": []
          },
          "execution_count": 30
        }
      ]
    },
    {
      "cell_type": "markdown",
      "metadata": {
        "id": "7-n502Y-easV",
        "colab_type": "text"
      },
      "source": [
        "## Object Detection Model"
      ]
    },
    {
      "cell_type": "code",
      "metadata": {
        "id": "URUwfgUDegRW",
        "colab_type": "code",
        "colab": {
          "base_uri": "https://localhost:8080/",
          "height": 93
        },
        "outputId": "32a9d0ac-80a6-42cb-b19c-900d91ba2e0a"
      },
      "source": [
        "input_shape = Input(shape = (228, 228, 3))\n",
        "\n",
        "x = layers.SeparableConv2D(128, kernel_size=3)(input_shape)\n",
        "x = layers.advanced_activations.LeakyReLU(alpha=0.3)(x)\n",
        "x = layers.MaxPooling2D(pool_size = (2, 2)) (x)\n",
        "x = layers.BatchNormalization() (x)\n",
        "x = layers.Dropout(0.2) (x)\n",
        "\n",
        "x = layers.SeparableConv2D(64, kernel_size=3)(x)\n",
        "x = layers.advanced_activations.LeakyReLU(alpha=0.3)(x)\n",
        "x = layers.MaxPooling2D(pool_size = (2, 2)) (x)\n",
        "x = layers.BatchNormalization() (x)\n",
        "x = layers.Dropout(0.3) (x)\n",
        "\n",
        "x = layers.SeparableConv2D(32, kernel_size=3)(x)\n",
        "x = layers.advanced_activations.LeakyReLU(alpha=0.3)(x)\n",
        "x = layers.MaxPooling2D(pool_size = (2, 2)) (x)\n",
        "x = layers.BatchNormalization() (x)\n",
        "x = layers.Dropout(0.4) (x)\n",
        "\n",
        "x = layers.Flatten()(x)\n",
        "x = layers.Dense(256) (x)\n",
        "x = layers.advanced_activations.LeakyReLU(alpha=0.3)(x)\n",
        "cordinates = layers.Dense(4, use_bias='False') (x)\n",
        "\n"
      ],
      "execution_count": 33,
      "outputs": [
        {
          "output_type": "stream",
          "text": [
            "WARNING:tensorflow:From /usr/local/lib/python3.6/dist-packages/keras/backend/tensorflow_backend.py:3733: calling dropout (from tensorflow.python.ops.nn_ops) with keep_prob is deprecated and will be removed in a future version.\n",
            "Instructions for updating:\n",
            "Please use `rate` instead of `keep_prob`. Rate should be set to `rate = 1 - keep_prob`.\n"
          ],
          "name": "stdout"
        }
      ]
    },
    {
      "cell_type": "code",
      "metadata": {
        "id": "abSwB4Pw0zDr",
        "colab_type": "code",
        "colab": {}
      },
      "source": [
        "regressor = Model(inputs=input_shape, outputs=cordinates)"
      ],
      "execution_count": 0,
      "outputs": []
    },
    {
      "cell_type": "code",
      "metadata": {
        "id": "tBk6QQib1fRG",
        "colab_type": "code",
        "colab": {
          "base_uri": "https://localhost:8080/",
          "height": 908
        },
        "outputId": "5444cea9-78b9-442d-8cca-150246739169"
      },
      "source": [
        "regressor.summary()"
      ],
      "execution_count": 36,
      "outputs": [
        {
          "output_type": "stream",
          "text": [
            "Model: \"model_1\"\n",
            "_________________________________________________________________\n",
            "Layer (type)                 Output Shape              Param #   \n",
            "=================================================================\n",
            "input_2 (InputLayer)         (None, 228, 228, 3)       0         \n",
            "_________________________________________________________________\n",
            "separable_conv2d_3 (Separabl (None, 226, 226, 128)     539       \n",
            "_________________________________________________________________\n",
            "leaky_re_lu_2 (LeakyReLU)    (None, 226, 226, 128)     0         \n",
            "_________________________________________________________________\n",
            "max_pooling2d_2 (MaxPooling2 (None, 113, 113, 128)     0         \n",
            "_________________________________________________________________\n",
            "batch_normalization_2 (Batch (None, 113, 113, 128)     512       \n",
            "_________________________________________________________________\n",
            "dropout_2 (Dropout)          (None, 113, 113, 128)     0         \n",
            "_________________________________________________________________\n",
            "separable_conv2d_4 (Separabl (None, 111, 111, 64)      9408      \n",
            "_________________________________________________________________\n",
            "leaky_re_lu_3 (LeakyReLU)    (None, 111, 111, 64)      0         \n",
            "_________________________________________________________________\n",
            "max_pooling2d_3 (MaxPooling2 (None, 55, 55, 64)        0         \n",
            "_________________________________________________________________\n",
            "batch_normalization_3 (Batch (None, 55, 55, 64)        256       \n",
            "_________________________________________________________________\n",
            "dropout_3 (Dropout)          (None, 55, 55, 64)        0         \n",
            "_________________________________________________________________\n",
            "separable_conv2d_5 (Separabl (None, 53, 53, 32)        2656      \n",
            "_________________________________________________________________\n",
            "leaky_re_lu_4 (LeakyReLU)    (None, 53, 53, 32)        0         \n",
            "_________________________________________________________________\n",
            "max_pooling2d_4 (MaxPooling2 (None, 26, 26, 32)        0         \n",
            "_________________________________________________________________\n",
            "batch_normalization_4 (Batch (None, 26, 26, 32)        128       \n",
            "_________________________________________________________________\n",
            "dropout_4 (Dropout)          (None, 26, 26, 32)        0         \n",
            "_________________________________________________________________\n",
            "flatten_1 (Flatten)          (None, 21632)             0         \n",
            "_________________________________________________________________\n",
            "dense_1 (Dense)              (None, 256)               5538048   \n",
            "_________________________________________________________________\n",
            "leaky_re_lu_5 (LeakyReLU)    (None, 256)               0         \n",
            "_________________________________________________________________\n",
            "dense_2 (Dense)              (None, 4)                 1028      \n",
            "=================================================================\n",
            "Total params: 5,552,575\n",
            "Trainable params: 5,552,127\n",
            "Non-trainable params: 448\n",
            "_________________________________________________________________\n"
          ],
          "name": "stdout"
        }
      ]
    },
    {
      "cell_type": "code",
      "metadata": {
        "id": "ym6KsPre1hLd",
        "colab_type": "code",
        "colab": {}
      },
      "source": [
        ""
      ],
      "execution_count": 0,
      "outputs": []
    }
  ]
}